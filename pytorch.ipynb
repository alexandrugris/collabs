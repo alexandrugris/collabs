{
 "cells": [
  {
   "cell_type": "code",
   "execution_count": 22,
   "metadata": {},
   "outputs": [],
   "source": [
    "import torch\n",
    "from torch import nn\n",
    "from torch.utils.data import DataLoader\n",
    "from torchvision import datasets\n",
    "from torchvision.transforms import ToTensor\n",
    "import numpy as np"
   ]
  },
  {
   "cell_type": "code",
   "execution_count": 2,
   "metadata": {},
   "outputs": [
    {
     "name": "stdout",
     "output_type": "stream",
     "text": [
      "Downloading http://fashion-mnist.s3-website.eu-central-1.amazonaws.com/train-images-idx3-ubyte.gz\n",
      "Downloading http://fashion-mnist.s3-website.eu-central-1.amazonaws.com/train-images-idx3-ubyte.gz to data/FashionMNIST/raw/train-images-idx3-ubyte.gz\n"
     ]
    },
    {
     "name": "stderr",
     "output_type": "stream",
     "text": [
      "100.0%\n"
     ]
    },
    {
     "name": "stdout",
     "output_type": "stream",
     "text": [
      "Extracting data/FashionMNIST/raw/train-images-idx3-ubyte.gz to data/FashionMNIST/raw\n",
      "\n",
      "Downloading http://fashion-mnist.s3-website.eu-central-1.amazonaws.com/train-labels-idx1-ubyte.gz\n"
     ]
    },
    {
     "name": "stderr",
     "output_type": "stream",
     "text": [
      "100.0%"
     ]
    },
    {
     "name": "stdout",
     "output_type": "stream",
     "text": [
      "Downloading http://fashion-mnist.s3-website.eu-central-1.amazonaws.com/train-labels-idx1-ubyte.gz to data/FashionMNIST/raw/train-labels-idx1-ubyte.gz\n",
      "Extracting data/FashionMNIST/raw/train-labels-idx1-ubyte.gz to data/FashionMNIST/raw\n",
      "\n",
      "Downloading http://fashion-mnist.s3-website.eu-central-1.amazonaws.com/t10k-images-idx3-ubyte.gz\n"
     ]
    },
    {
     "name": "stderr",
     "output_type": "stream",
     "text": [
      "\n",
      "4.4%"
     ]
    },
    {
     "name": "stdout",
     "output_type": "stream",
     "text": [
      "Downloading http://fashion-mnist.s3-website.eu-central-1.amazonaws.com/t10k-images-idx3-ubyte.gz to data/FashionMNIST/raw/t10k-images-idx3-ubyte.gz\n"
     ]
    },
    {
     "name": "stderr",
     "output_type": "stream",
     "text": [
      "100.0%\n",
      "100.0%\n"
     ]
    },
    {
     "name": "stdout",
     "output_type": "stream",
     "text": [
      "Extracting data/FashionMNIST/raw/t10k-images-idx3-ubyte.gz to data/FashionMNIST/raw\n",
      "\n",
      "Downloading http://fashion-mnist.s3-website.eu-central-1.amazonaws.com/t10k-labels-idx1-ubyte.gz\n",
      "Downloading http://fashion-mnist.s3-website.eu-central-1.amazonaws.com/t10k-labels-idx1-ubyte.gz to data/FashionMNIST/raw/t10k-labels-idx1-ubyte.gz\n",
      "Extracting data/FashionMNIST/raw/t10k-labels-idx1-ubyte.gz to data/FashionMNIST/raw\n",
      "\n"
     ]
    }
   ],
   "source": [
    "training_data = datasets.FashionMNIST(\n",
    "    root=\"data\",\n",
    "    train=True,\n",
    "    download=True,\n",
    "    transform=ToTensor(),\n",
    ")\n",
    "\n",
    "# Download test data from open datasets.\n",
    "test_data = datasets.FashionMNIST(\n",
    "    root=\"data\",\n",
    "    train=False,\n",
    "    download=True,\n",
    "    transform=ToTensor(),\n",
    ")"
   ]
  },
  {
   "cell_type": "code",
   "execution_count": 3,
   "metadata": {},
   "outputs": [
    {
     "name": "stdout",
     "output_type": "stream",
     "text": [
      "Shape of X [N, C, H, W]: torch.Size([64, 1, 28, 28])\n",
      "Shape of y: torch.Size([64]) torch.int64\n"
     ]
    }
   ],
   "source": [
    "batch_size = 64\n",
    "\n",
    "# Create data loaders.\n",
    "train_dataloader = DataLoader(training_data, batch_size=batch_size)\n",
    "test_dataloader = DataLoader(test_data, batch_size=batch_size)\n",
    "\n",
    "for X, y in test_dataloader:\n",
    "    print(f\"Shape of X [N, C, H, W]: {X.shape}\")\n",
    "    print(f\"Shape of y: {y.shape} {y.dtype}\")\n",
    "    break"
   ]
  },
  {
   "cell_type": "code",
   "execution_count": 23,
   "metadata": {},
   "outputs": [
    {
     "name": "stdout",
     "output_type": "stream",
     "text": [
      "Using mps device\n"
     ]
    }
   ],
   "source": [
    "device = (\n",
    "    \"cuda\"\n",
    "    if torch.cuda.is_available()\n",
    "    else \"mps\"\n",
    "    if torch.backends.mps.is_available()\n",
    "    else \"cpu\"\n",
    ")\n",
    "print(f\"Using {device} device\")\n"
   ]
  },
  {
   "cell_type": "code",
   "execution_count": 37,
   "metadata": {},
   "outputs": [],
   "source": [
    "# add a custom layer\n",
    "class CustomDense(nn.Module):\n",
    "\n",
    "    def __init__(self, size_in, size_out):\n",
    "        super().__init__()\n",
    "\n",
    "        self.weights = nn.Parameter(\n",
    "            torch.Tensor(size_out, size_in)\n",
    "        )  \n",
    "        # nn.Parameter - trainable parameters, it's what we send to the constructor of the Optimizier.\n",
    "        # serach for model.parameters() \n",
    "\n",
    "        self.bias = nn.Parameter(\n",
    "            torch.Tensor(size_out)\n",
    "        ) \n",
    "\n",
    "        # initialize weights and biases\n",
    "\n",
    "        # He initialization\n",
    "        nn.init.nn.init.kaiming_uniform_(self.weights, a=np.sqrt(5))\n",
    "        nn.init.uniform(self.bias, -0.1, 0.1)\n",
    "\n",
    "    def forward(self, x):\n",
    "        w_times_x= torch.mm(x, self.weights.t())\n",
    "        return torch.add(w_times_x, self.bias)  # w times x + b"
   ]
  },
  {
   "cell_type": "code",
   "execution_count": 36,
   "metadata": {},
   "outputs": [
    {
     "ename": "AttributeError",
     "evalue": "module 'torch.nn.init' has no attribute 'nn'",
     "output_type": "error",
     "traceback": [
      "\u001b[0;31m---------------------------------------------------------------------------\u001b[0m",
      "\u001b[0;31mAttributeError\u001b[0m                            Traceback (most recent call last)",
      "Cell \u001b[0;32mIn[36], line 18\u001b[0m\n\u001b[1;32m     15\u001b[0m         logits \u001b[39m=\u001b[39m \u001b[39mself\u001b[39m\u001b[39m.\u001b[39mlinear_relu_stack(x)\n\u001b[1;32m     16\u001b[0m         \u001b[39mreturn\u001b[39;00m logits\n\u001b[0;32m---> 18\u001b[0m model \u001b[39m=\u001b[39m NeuralNetwork()\u001b[39m.\u001b[39mto(device)\n\u001b[1;32m     19\u001b[0m \u001b[39mprint\u001b[39m(model)\n\u001b[1;32m     21\u001b[0m \u001b[39m#model = torch.compile(model)\u001b[39;00m\n",
      "Cell \u001b[0;32mIn[36], line 6\u001b[0m, in \u001b[0;36mNeuralNetwork.__init__\u001b[0;34m(self)\u001b[0m\n\u001b[1;32m      3\u001b[0m \u001b[39msuper\u001b[39m()\u001b[39m.\u001b[39m\u001b[39m__init__\u001b[39m()\n\u001b[1;32m      4\u001b[0m \u001b[39mself\u001b[39m\u001b[39m.\u001b[39mflatten \u001b[39m=\u001b[39m nn\u001b[39m.\u001b[39mFlatten()\n\u001b[1;32m      5\u001b[0m \u001b[39mself\u001b[39m\u001b[39m.\u001b[39mlinear_relu_stack \u001b[39m=\u001b[39m nn\u001b[39m.\u001b[39mSequential(\n\u001b[0;32m----> 6\u001b[0m     CustomDense(\u001b[39m28\u001b[39;49m\u001b[39m*\u001b[39;49m\u001b[39m28\u001b[39;49m, \u001b[39m512\u001b[39;49m), \u001b[39m# instead of nn.Linear\u001b[39;00m\n\u001b[1;32m      7\u001b[0m     nn\u001b[39m.\u001b[39mReLU(),\n\u001b[1;32m      8\u001b[0m     CustomDense(\u001b[39m512\u001b[39m, \u001b[39m512\u001b[39m),\n\u001b[1;32m      9\u001b[0m     nn\u001b[39m.\u001b[39mReLU(),\n\u001b[1;32m     10\u001b[0m     CustomDense(\u001b[39m512\u001b[39m, \u001b[39m10\u001b[39m)\n\u001b[1;32m     11\u001b[0m )\n",
      "Cell \u001b[0;32mIn[35], line 19\u001b[0m, in \u001b[0;36mCustomDense.__init__\u001b[0;34m(self, size_in, size_out)\u001b[0m\n\u001b[1;32m     13\u001b[0m \u001b[39mself\u001b[39m\u001b[39m.\u001b[39mbias \u001b[39m=\u001b[39m nn\u001b[39m.\u001b[39mParameter(\n\u001b[1;32m     14\u001b[0m     torch\u001b[39m.\u001b[39mTensor(size_out)\n\u001b[1;32m     15\u001b[0m ) \n\u001b[1;32m     17\u001b[0m \u001b[39m# initialize weights and biases\u001b[39;00m\n\u001b[0;32m---> 19\u001b[0m nn\u001b[39m.\u001b[39;49minit\u001b[39m.\u001b[39;49mnn\u001b[39m.\u001b[39minit\u001b[39m.\u001b[39mkaiming_uniform_(\u001b[39mself\u001b[39m\u001b[39m.\u001b[39mweights, a\u001b[39m=\u001b[39mnp\u001b[39m.\u001b[39msqrt(\u001b[39m5\u001b[39m))\n\u001b[1;32m     20\u001b[0m nn\u001b[39m.\u001b[39minit\u001b[39m.\u001b[39muniform(\u001b[39mself\u001b[39m\u001b[39m.\u001b[39mbias, \u001b[39m-\u001b[39m\u001b[39m0.1\u001b[39m, \u001b[39m0.1\u001b[39m)\n",
      "\u001b[0;31mAttributeError\u001b[0m: module 'torch.nn.init' has no attribute 'nn'"
     ]
    }
   ],
   "source": [
    "\n",
    "class NeuralNetwork(nn.Module):\n",
    "    def __init__(self):\n",
    "        super().__init__()\n",
    "        self.flatten = nn.Flatten()\n",
    "        self.linear_relu_stack = nn.Sequential(\n",
    "            CustomDense(28*28, 512), # instead of nn.Linear\n",
    "            nn.ReLU(),\n",
    "            CustomDense(512, 512),\n",
    "            nn.ReLU(),\n",
    "            CustomDense(512, 10)\n",
    "        )\n",
    "\n",
    "    def forward(self, x):\n",
    "        x = self.flatten(x)\n",
    "        logits = self.linear_relu_stack(x)\n",
    "        return logits\n",
    "\n",
    "model = NeuralNetwork().to(device)\n",
    "print(model)\n",
    "\n",
    "#model = torch.compile(model)"
   ]
  },
  {
   "cell_type": "code",
   "execution_count": 32,
   "metadata": {},
   "outputs": [],
   "source": [
    "loss_fn = nn.CrossEntropyLoss()\n",
    "optimizer = torch.optim.SGD(model.parameters(), lr=1e-3)\n",
    "\n",
    "def train(dataloader, model, loss_fn, optimizer):\n",
    "    size = len(dataloader.dataset)\n",
    "    model.train()\n",
    "    for batch, (X, y) in enumerate(dataloader):\n",
    "        X, y = X.to(device), y.to(device)\n",
    "\n",
    "        # Compute prediction error\n",
    "        pred = model(X)\n",
    "        loss = loss_fn(pred, y)\n",
    "\n",
    "        # Backpropagation\n",
    "        optimizer.zero_grad()\n",
    "        loss.backward()\n",
    "        optimizer.step()\n",
    "\n",
    "        if batch % 100 == 0:\n",
    "            loss, current = loss.item(), (batch + 1) * len(X)\n",
    "            print(f\"loss: {loss:>7f}  [{current:>5d}/{size:>5d}]\")\n"
   ]
  },
  {
   "cell_type": "code",
   "execution_count": 33,
   "metadata": {},
   "outputs": [],
   "source": [
    "def test(dataloader, model, loss_fn):\n",
    "    size = len(dataloader.dataset)\n",
    "    num_batches = len(dataloader)\n",
    "    model.eval()\n",
    "    test_loss, correct = 0, 0\n",
    "\n",
    "    # make it faster, no gradient computation\n",
    "    with torch.no_grad():\n",
    "        for X, y in dataloader:\n",
    "            X, y = X.to(device), y.to(device)\n",
    "            pred = model(X)\n",
    "            test_loss += loss_fn(pred, y).item()\n",
    "            correct += (pred.argmax(1) == y).type(torch.float).sum().item()\n",
    "            \n",
    "    test_loss /= num_batches\n",
    "    correct /= size\n",
    "    print(f\"Test Error: \\n Accuracy: {(100*correct):>0.1f}%, Avg loss: {test_loss:>8f} \\n\")"
   ]
  },
  {
   "cell_type": "code",
   "execution_count": 34,
   "metadata": {},
   "outputs": [
    {
     "name": "stdout",
     "output_type": "stream",
     "text": [
      "Epoch 1\n",
      "-------------------------------\n",
      "loss: 2.297671  [   64/60000]\n",
      "loss: 2.288376  [ 6464/60000]\n",
      "loss: 2.269763  [12864/60000]\n",
      "loss: 2.265694  [19264/60000]\n",
      "loss: 2.253272  [25664/60000]\n",
      "loss: 2.223988  [32064/60000]\n",
      "loss: 2.235089  [38464/60000]\n",
      "loss: 2.206623  [44864/60000]\n",
      "loss: 2.197532  [51264/60000]\n",
      "loss: 2.168028  [57664/60000]\n",
      "Test Error: \n",
      " Accuracy: 38.4%, Avg loss: 2.164087 \n",
      "\n",
      "Epoch 2\n",
      "-------------------------------\n",
      "loss: 2.174839  [   64/60000]\n",
      "loss: 2.164640  [ 6464/60000]\n",
      "loss: 2.108209  [12864/60000]\n",
      "loss: 2.126660  [19264/60000]\n",
      "loss: 2.083283  [25664/60000]\n",
      "loss: 2.020871  [32064/60000]\n",
      "loss: 2.062218  [38464/60000]\n",
      "loss: 1.984305  [44864/60000]\n",
      "loss: 1.984343  [51264/60000]\n",
      "loss: 1.922364  [57664/60000]\n",
      "Test Error: \n",
      " Accuracy: 56.1%, Avg loss: 1.916832 \n",
      "\n",
      "Epoch 3\n",
      "-------------------------------\n",
      "loss: 1.948621  [   64/60000]\n",
      "loss: 1.918276  [ 6464/60000]\n",
      "loss: 1.802920  [12864/60000]\n",
      "loss: 1.848468  [19264/60000]\n",
      "loss: 1.737671  [25664/60000]\n",
      "loss: 1.688171  [32064/60000]\n",
      "loss: 1.726432  [38464/60000]\n",
      "loss: 1.623098  [44864/60000]\n",
      "loss: 1.639427  [51264/60000]\n",
      "loss: 1.544627  [57664/60000]\n",
      "Test Error: \n",
      " Accuracy: 61.2%, Avg loss: 1.554113 \n",
      "\n",
      "Epoch 4\n",
      "-------------------------------\n",
      "loss: 1.617738  [   64/60000]\n",
      "loss: 1.579927  [ 6464/60000]\n",
      "loss: 1.431406  [12864/60000]\n",
      "loss: 1.504263  [19264/60000]\n",
      "loss: 1.377947  [25664/60000]\n",
      "loss: 1.376459  [32064/60000]\n",
      "loss: 1.396851  [38464/60000]\n",
      "loss: 1.321096  [44864/60000]\n",
      "loss: 1.347758  [51264/60000]\n",
      "loss: 1.251128  [57664/60000]\n",
      "Test Error: \n",
      " Accuracy: 62.9%, Avg loss: 1.275883 \n",
      "\n",
      "Epoch 5\n",
      "-------------------------------\n",
      "loss: 1.349671  [   64/60000]\n",
      "loss: 1.331497  [ 6464/60000]\n",
      "loss: 1.170063  [12864/60000]\n",
      "loss: 1.272056  [19264/60000]\n",
      "loss: 1.142147  [25664/60000]\n",
      "loss: 1.168611  [32064/60000]\n",
      "loss: 1.189770  [38464/60000]\n",
      "loss: 1.130970  [44864/60000]\n",
      "loss: 1.165667  [51264/60000]\n",
      "loss: 1.080466  [57664/60000]\n",
      "Test Error: \n",
      " Accuracy: 64.3%, Avg loss: 1.103355 \n",
      "\n",
      "Done!\n"
     ]
    }
   ],
   "source": [
    "epochs = 5\n",
    "for t in range(epochs):\n",
    "    print(f\"Epoch {t+1}\\n-------------------------------\")\n",
    "    train(train_dataloader, model, loss_fn, optimizer)\n",
    "    test(test_dataloader, model, loss_fn)\n",
    "print(\"Done!\")\n",
    "\n"
   ]
  },
  {
   "cell_type": "code",
   "execution_count": null,
   "metadata": {},
   "outputs": [],
   "source": [
    "\n",
    "# save\n",
    "torch.save(model.state_dict(), \"model.pth\")\n",
    "print(\"Saved PyTorch Model State to model.pth\")\n",
    "\n",
    "# load\n",
    "model = NeuralNetwork().to(device)\n",
    "model.load_state_dict(torch.load(\"model.pth\"))\n"
   ]
  },
  {
   "cell_type": "code",
   "execution_count": 16,
   "metadata": {},
   "outputs": [
    {
     "name": "stdout",
     "output_type": "stream",
     "text": [
      "Predicted: \"Ankle boot\", Actual: \"Ankle boot\"\n"
     ]
    }
   ],
   "source": [
    "classes = [\n",
    "    \"T-shirt/top\",\n",
    "    \"Trouser\",\n",
    "    \"Pullover\",\n",
    "    \"Dress\",\n",
    "    \"Coat\",\n",
    "    \"Sandal\",\n",
    "    \"Shirt\",\n",
    "    \"Sneaker\",\n",
    "    \"Bag\",\n",
    "    \"Ankle boot\",\n",
    "]\n",
    "\n",
    "\n",
    "\n",
    "model.eval()\n",
    "x, y = test_data[0][0], test_data[0][1]\n",
    "\n",
    "# also with no autograd\n",
    "with torch.no_grad():\n",
    "    x = x.to(device)\n",
    "    pred = model(x)\n",
    "    predicted, actual = classes[pred[0].argmax(0)], classes[y]\n",
    "    print(f'Predicted: \"{predicted}\", Actual: \"{actual}\"')\n",
    "\n"
   ]
  }
 ],
 "metadata": {
  "kernelspec": {
   "display_name": "Python 3",
   "language": "python",
   "name": "python3"
  },
  "language_info": {
   "codemirror_mode": {
    "name": "ipython",
    "version": 3
   },
   "file_extension": ".py",
   "mimetype": "text/x-python",
   "name": "python",
   "nbconvert_exporter": "python",
   "pygments_lexer": "ipython3",
   "version": "3.11.3"
  },
  "orig_nbformat": 4
 },
 "nbformat": 4,
 "nbformat_minor": 2
}
