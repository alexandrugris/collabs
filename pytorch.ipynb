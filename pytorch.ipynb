{
 "cells": [
  {
   "cell_type": "code",
   "execution_count": 94,
   "metadata": {},
   "outputs": [],
   "source": [
    "import torch\n",
    "from torch import nn\n",
    "from torch.utils.data import DataLoader\n",
    "from torchvision import datasets\n",
    "from torchvision.transforms import ToTensor\n",
    "import numpy as np"
   ]
  },
  {
   "cell_type": "code",
   "execution_count": 95,
   "metadata": {},
   "outputs": [],
   "source": [
    "training_data = datasets.FashionMNIST(\n",
    "    root=\"data\",\n",
    "    train=True,\n",
    "    download=True,\n",
    "    transform=ToTensor(),\n",
    ")\n",
    "\n",
    "# Download test data from open datasets.\n",
    "test_data = datasets.FashionMNIST(\n",
    "    root=\"data\",\n",
    "    train=False,\n",
    "    download=True,\n",
    "    transform=ToTensor(),\n",
    ")"
   ]
  },
  {
   "cell_type": "code",
   "execution_count": 96,
   "metadata": {},
   "outputs": [
    {
     "name": "stdout",
     "output_type": "stream",
     "text": [
      "Shape of X [N, C, H, W]: torch.Size([64, 1, 28, 28])\n",
      "Shape of y: torch.Size([64]) torch.int64\n"
     ]
    }
   ],
   "source": [
    "batch_size = 64\n",
    "\n",
    "# Create data loaders.\n",
    "train_dataloader = DataLoader(training_data, batch_size=batch_size)\n",
    "test_dataloader = DataLoader(test_data, batch_size=batch_size)\n",
    "\n",
    "for X, y in test_dataloader:\n",
    "    print(f\"Shape of X [N, C, H, W]: {X.shape}\")\n",
    "    print(f\"Shape of y: {y.shape} {y.dtype}\")\n",
    "    break"
   ]
  },
  {
   "cell_type": "code",
   "execution_count": 97,
   "metadata": {},
   "outputs": [
    {
     "name": "stdout",
     "output_type": "stream",
     "text": [
      "Using mps device\n"
     ]
    }
   ],
   "source": [
    "device = (\n",
    "    \"cuda\"\n",
    "    if torch.cuda.is_available()\n",
    "    else \"mps\"\n",
    "    if torch.backends.mps.is_available()\n",
    "    else \"cpu\"\n",
    ")\n",
    "print(f\"Using {device} device\")\n"
   ]
  },
  {
   "cell_type": "code",
   "execution_count": 98,
   "metadata": {},
   "outputs": [],
   "source": [
    "# add a custom layer\n",
    "class CustomDense(nn.Module):\n",
    "\n",
    "    def __init__(self, size_in, size_out):\n",
    "        super().__init__()\n",
    "\n",
    "        self.weights = nn.Parameter(\n",
    "            torch.Tensor(size_out, size_in)\n",
    "        )  \n",
    "        # nn.Parameter - trainable parameters, it's what we send to the constructor of the Optimizier.\n",
    "        # serach for model.parameters() \n",
    "\n",
    "        self.bias = nn.Parameter(\n",
    "            torch.Tensor(size_out)\n",
    "        ) \n",
    "\n",
    "        # initialize weights and biases\n",
    "\n",
    "        # He initialization\n",
    "        nn.init.kaiming_uniform_(self.weights, a=np.sqrt(5))\n",
    "        nn.init.uniform_(self.bias, -0.1, 0.1)\n",
    "\n",
    "    def forward(self, x):\n",
    "        w_times_x= torch.mm(x, self.weights.t())\n",
    "        return torch.add(w_times_x, self.bias)  # w times x + b"
   ]
  },
  {
   "cell_type": "code",
   "execution_count": 99,
   "metadata": {},
   "outputs": [
    {
     "name": "stdout",
     "output_type": "stream",
     "text": [
      "NeuralNetwork(\n",
      "  (flatten): Flatten(start_dim=1, end_dim=-1)\n",
      "  (linear_relu_stack): Sequential(\n",
      "    (0): CustomDense()\n",
      "    (1): ReLU()\n",
      "    (2): CustomDense()\n",
      "    (3): ReLU()\n",
      "    (4): CustomDense()\n",
      "  )\n",
      ")\n"
     ]
    }
   ],
   "source": [
    "\n",
    "class NeuralNetwork(nn.Module):\n",
    "    def __init__(self):\n",
    "        super().__init__()\n",
    "        self.flatten = nn.Flatten()\n",
    "        self.linear_relu_stack = nn.Sequential(\n",
    "            CustomDense(28*28, 512), # instead of nn.Linear\n",
    "            nn.ReLU(),\n",
    "            CustomDense(512, 512),\n",
    "            nn.ReLU(),\n",
    "            CustomDense(512, 10)\n",
    "        )\n",
    "\n",
    "    def forward(self, x):\n",
    "        x = self.flatten(x)\n",
    "        logits = self.linear_relu_stack(x)\n",
    "        return logits\n",
    "\n",
    "# sending the model to device must be done before initializing the optimizer\n",
    "# otherwise it won't update the parameters\n",
    "model = NeuralNetwork().to(device)\n",
    "print(model)\n",
    "\n",
    "#model = torch.compile(model)"
   ]
  },
  {
   "cell_type": "code",
   "execution_count": 100,
   "metadata": {},
   "outputs": [],
   "source": [
    "loss_fn = nn.CrossEntropyLoss()\n",
    "optimizer = torch.optim.SGD(model.parameters(), lr=1e-3)\n",
    "\n",
    "def train(dataloader, model, loss_fn, optimizer):\n",
    "    size = len(dataloader.dataset)\n",
    "    model.train()\n",
    "    for batch, (X, y) in enumerate(dataloader):\n",
    "        X, y = X.to(device), y.to(device)\n",
    "\n",
    "        # Compute prediction error\n",
    "        pred = model(X)\n",
    "        loss = loss_fn(pred, y)\n",
    "\n",
    "        # Backpropagation\n",
    "        optimizer.zero_grad()\n",
    "        loss.backward()\n",
    "        optimizer.step()\n",
    "\n",
    "        if batch % 100 == 0:\n",
    "            loss, current = loss.item(), (batch + 1) * len(X)\n",
    "            print(f\"loss: {loss:>7f}  [{current:>5d}/{size:>5d}]\")\n"
   ]
  },
  {
   "cell_type": "code",
   "execution_count": 101,
   "metadata": {},
   "outputs": [],
   "source": [
    "def test(dataloader, model, loss_fn):\n",
    "    size = len(dataloader.dataset)\n",
    "    num_batches = len(dataloader)\n",
    "    model.eval()\n",
    "    test_loss, correct = 0, 0\n",
    "\n",
    "    # make it faster, no gradient computation\n",
    "    with torch.no_grad():\n",
    "        for X, y in dataloader:\n",
    "            X, y = X.to(device), y.to(device)\n",
    "            pred = model(X)\n",
    "            test_loss += loss_fn(pred, y).item()\n",
    "            correct += (pred.argmax(1) == y).type(torch.float).sum().item()\n",
    "            \n",
    "    test_loss /= num_batches\n",
    "    correct /= size\n",
    "    print(f\"Test Error: \\n Accuracy: {(100*correct):>0.1f}%, Avg loss: {test_loss:>8f} \\n\")"
   ]
  },
  {
   "cell_type": "code",
   "execution_count": 102,
   "metadata": {},
   "outputs": [
    {
     "name": "stdout",
     "output_type": "stream",
     "text": [
      "Epoch 1\n",
      "-------------------------------\n",
      "loss: 2.312792  [   64/60000]\n",
      "loss: 2.292289  [ 6464/60000]\n",
      "loss: 2.275900  [12864/60000]\n",
      "loss: 2.270404  [19264/60000]\n",
      "loss: 2.252733  [25664/60000]\n",
      "loss: 2.232029  [32064/60000]\n",
      "loss: 2.232559  [38464/60000]\n",
      "loss: 2.206539  [44864/60000]\n",
      "loss: 2.198829  [51264/60000]\n",
      "loss: 2.174195  [57664/60000]\n",
      "Test Error: \n",
      " Accuracy: 49.1%, Avg loss: 2.163399 \n",
      "\n",
      "Epoch 2\n",
      "-------------------------------\n",
      "loss: 2.173644  [   64/60000]\n",
      "loss: 2.162490  [ 6464/60000]\n",
      "loss: 2.105308  [12864/60000]\n",
      "loss: 2.123774  [19264/60000]\n",
      "loss: 2.072922  [25664/60000]\n",
      "loss: 2.013977  [32064/60000]\n",
      "loss: 2.036089  [38464/60000]\n",
      "loss: 1.964644  [44864/60000]\n",
      "loss: 1.960953  [51264/60000]\n",
      "loss: 1.898842  [57664/60000]\n",
      "Test Error: \n",
      " Accuracy: 56.9%, Avg loss: 1.892512 \n",
      "\n",
      "Epoch 3\n",
      "-------------------------------\n",
      "loss: 1.920631  [   64/60000]\n",
      "loss: 1.895757  [ 6464/60000]\n",
      "loss: 1.775648  [12864/60000]\n",
      "loss: 1.820230  [19264/60000]\n",
      "loss: 1.710505  [25664/60000]\n",
      "loss: 1.655293  [32064/60000]\n",
      "loss: 1.675062  [38464/60000]\n",
      "loss: 1.582060  [44864/60000]\n",
      "loss: 1.597172  [51264/60000]\n",
      "loss: 1.504195  [57664/60000]\n",
      "Test Error: \n",
      " Accuracy: 61.4%, Avg loss: 1.516534 \n",
      "\n",
      "Epoch 4\n",
      "-------------------------------\n",
      "loss: 1.576118  [   64/60000]\n",
      "loss: 1.548386  [ 6464/60000]\n",
      "loss: 1.396617  [12864/60000]\n",
      "loss: 1.475686  [19264/60000]\n",
      "loss: 1.355722  [25664/60000]\n",
      "loss: 1.342676  [32064/60000]\n",
      "loss: 1.358315  [38464/60000]\n",
      "loss: 1.286340  [44864/60000]\n",
      "loss: 1.314517  [51264/60000]\n",
      "loss: 1.232199  [57664/60000]\n",
      "Test Error: \n",
      " Accuracy: 63.9%, Avg loss: 1.248385 \n",
      "\n",
      "Epoch 5\n",
      "-------------------------------\n",
      "loss: 1.318751  [   64/60000]\n",
      "loss: 1.303672  [ 6464/60000]\n",
      "loss: 1.139272  [12864/60000]\n",
      "loss: 1.252275  [19264/60000]\n",
      "loss: 1.129709  [25664/60000]\n",
      "loss: 1.143209  [32064/60000]\n",
      "loss: 1.165547  [38464/60000]\n",
      "loss: 1.102455  [44864/60000]\n",
      "loss: 1.139094  [51264/60000]\n",
      "loss: 1.072434  [57664/60000]\n",
      "Test Error: \n",
      " Accuracy: 65.6%, Avg loss: 1.081822 \n",
      "\n",
      "Done!\n"
     ]
    }
   ],
   "source": [
    "epochs = 5\n",
    "for t in range(epochs):\n",
    "    print(f\"Epoch {t+1}\\n-------------------------------\")\n",
    "    train(train_dataloader, model, loss_fn, optimizer)\n",
    "    test(test_dataloader, model, loss_fn)\n",
    "print(\"Done!\")\n",
    "\n"
   ]
  },
  {
   "cell_type": "code",
   "execution_count": 103,
   "metadata": {},
   "outputs": [
    {
     "name": "stdout",
     "output_type": "stream",
     "text": [
      "Saved PyTorch Model State to model.pth\n"
     ]
    },
    {
     "data": {
      "text/plain": [
       "<All keys matched successfully>"
      ]
     },
     "execution_count": 103,
     "metadata": {},
     "output_type": "execute_result"
    }
   ],
   "source": [
    "\n",
    "# save\n",
    "torch.save(model.state_dict(), \"model.pth\")\n",
    "print(\"Saved PyTorch Model State to model.pth\")\n",
    "\n",
    "# load\n",
    "model = NeuralNetwork().to(device)\n",
    "model.load_state_dict(torch.load(\"model.pth\"))\n"
   ]
  },
  {
   "cell_type": "code",
   "execution_count": 104,
   "metadata": {},
   "outputs": [
    {
     "name": "stdout",
     "output_type": "stream",
     "text": [
      "Probabilities:  tensor([[0.0022, 0.0011, 0.0078, 0.0029, 0.0068, 0.2102, 0.0071, 0.2501, 0.1131,\n",
      "         0.3987]], device='mps:0')\n",
      "Predicted: \"Ankle boot\", Actual: \"Ankle boot\"\n"
     ]
    }
   ],
   "source": [
    "classes = [\n",
    "    \"T-shirt/top\",\n",
    "    \"Trouser\",\n",
    "    \"Pullover\",\n",
    "    \"Dress\",\n",
    "    \"Coat\",\n",
    "    \"Sandal\",\n",
    "    \"Shirt\",\n",
    "    \"Sneaker\",\n",
    "    \"Bag\",\n",
    "    \"Ankle boot\",\n",
    "]\n",
    "\n",
    "\n",
    "\n",
    "model.eval()\n",
    "x, y = test_data[0][0], test_data[0][1]\n",
    "\n",
    "# also with no autograd\n",
    "with torch.no_grad():\n",
    "    x = x.to(device)\n",
    "    pred = model(x)\n",
    "    print(\"Probabilities: \", nn.Softmax(dim=1)(pred))\n",
    "\n",
    "    predicted, actual = classes[pred[0].argmax(0)], classes[y]\n",
    "    print(f'Predicted: \"{predicted}\", Actual: \"{actual}\"')\n",
    "\n"
   ]
  },
  {
   "cell_type": "code",
   "execution_count": 105,
   "metadata": {},
   "outputs": [
    {
     "name": "stdout",
     "output_type": "stream",
     "text": [
      "Total parameters:  669706\n"
     ]
    }
   ],
   "source": [
    "print(\"Total parameters: \", np.sum([np.product(x.shape)  for x in model.parameters()]))"
   ]
  }
 ],
 "metadata": {
  "kernelspec": {
   "display_name": "Python 3",
   "language": "python",
   "name": "python3"
  },
  "language_info": {
   "codemirror_mode": {
    "name": "ipython",
    "version": 3
   },
   "file_extension": ".py",
   "mimetype": "text/x-python",
   "name": "python",
   "nbconvert_exporter": "python",
   "pygments_lexer": "ipython3",
   "version": "3.11.3"
  },
  "orig_nbformat": 4
 },
 "nbformat": 4,
 "nbformat_minor": 2
}
