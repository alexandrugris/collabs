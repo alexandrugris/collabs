{
 "cells": [
  {
   "cell_type": "code",
   "execution_count": 1,
   "metadata": {},
   "outputs": [
    {
     "name": "stderr",
     "output_type": "stream",
     "text": [
      "Setting default log level to \"WARN\".\n",
      "To adjust logging level use sc.setLogLevel(newLevel). For SparkR, use setLogLevel(newLevel).\n"
     ]
    },
    {
     "name": "stdout",
     "output_type": "stream",
     "text": [
      "22/12/25 21:23:13 WARN NativeCodeLoader: Unable to load native-hadoop library for your platform... using builtin-java classes where applicable\n"
     ]
    }
   ],
   "source": [
    "from pyspark.sql import SparkSession\n",
    "\n",
    "spark = SparkSession.builder.getOrCreate()\n"
   ]
  },
  {
   "cell_type": "code",
   "execution_count": 5,
   "metadata": {},
   "outputs": [
    {
     "name": "stdout",
     "output_type": "stream",
     "text": [
      "3.3.1\n",
      "3.10\n"
     ]
    }
   ],
   "source": [
    "print(spark.version)\n",
    "print(spark.sparkContext.pythonVer)"
   ]
  },
  {
   "cell_type": "code",
   "execution_count": 9,
   "metadata": {},
   "outputs": [
    {
     "name": "stderr",
     "output_type": "stream",
     "text": [
      "                                                                                \r"
     ]
    },
    {
     "data": {
      "text/plain": [
       "[(8, <pyspark.resultiterable.ResultIterable at 0x10ccfb310>),\n",
       " (0, <pyspark.resultiterable.ResultIterable at 0x10ccf9ba0>),\n",
       " (1, <pyspark.resultiterable.ResultIterable at 0x10ccfa0b0>),\n",
       " (9, <pyspark.resultiterable.ResultIterable at 0x10cf64b80>),\n",
       " (2, <pyspark.resultiterable.ResultIterable at 0x10cd71b40>),\n",
       " (3, <pyspark.resultiterable.ResultIterable at 0x10cfaaf50>),\n",
       " (4, <pyspark.resultiterable.ResultIterable at 0x10cfaa8f0>),\n",
       " (5, <pyspark.resultiterable.ResultIterable at 0x10cfabdc0>),\n",
       " (6, <pyspark.resultiterable.ResultIterable at 0x10cfa8760>),\n",
       " (7, <pyspark.resultiterable.ResultIterable at 0x10cfa9b40>)]"
      ]
     },
     "execution_count": 9,
     "metadata": {},
     "output_type": "execute_result"
    }
   ],
   "source": [
    "lst = [x for x in range(1, 100000)]\n",
    "lstRdd = spark.sparkContext.parallelize(lst)\n",
    "\n",
    "lstRdd.groupBy(lambda x: x%10).collect()"
   ]
  }
 ],
 "metadata": {
  "kernelspec": {
   "display_name": "python10",
   "language": "python",
   "name": "python3"
  },
  "language_info": {
   "codemirror_mode": {
    "name": "ipython",
    "version": 3
   },
   "file_extension": ".py",
   "mimetype": "text/x-python",
   "name": "python",
   "nbconvert_exporter": "python",
   "pygments_lexer": "ipython3",
   "version": "3.10.8 | packaged by conda-forge | (main, Nov 22 2022, 08:25:13) [Clang 14.0.6 ]"
  },
  "orig_nbformat": 4,
  "vscode": {
   "interpreter": {
    "hash": "7122ddf54a19a3251d16a4900676f923bc743f32240f091e39945fec3a5ec098"
   }
  }
 },
 "nbformat": 4,
 "nbformat_minor": 2
}
